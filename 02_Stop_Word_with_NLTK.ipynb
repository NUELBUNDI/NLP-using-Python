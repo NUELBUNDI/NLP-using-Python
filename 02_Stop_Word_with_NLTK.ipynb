{
  "nbformat": 4,
  "nbformat_minor": 0,
  "metadata": {
    "colab": {
      "name": "02 Stop Word with NLTK.ipynb",
      "provenance": [],
      "authorship_tag": "ABX9TyMUZBNjpqwRb2n65qNzkc1K",
      "include_colab_link": true
    },
    "kernelspec": {
      "name": "python3",
      "display_name": "Python 3"
    }
  },
  "cells": [
    {
      "cell_type": "markdown",
      "metadata": {
        "id": "view-in-github",
        "colab_type": "text"
      },
      "source": [
        "<a href=\"https://colab.research.google.com/github/sandipanpaul21/NLP-using-Python/blob/master/02_Stop_Word_with_NLTK.ipynb\" target=\"_parent\"><img src=\"https://colab.research.google.com/assets/colab-badge.svg\" alt=\"Open In Colab\"/></a>"
      ]
    },
    {
      "cell_type": "code",
      "metadata": {
        "id": "jy09Wu1q1w0e",
        "colab_type": "code",
        "colab": {}
      },
      "source": [
        "# Stop Words\n",
        "\n",
        "# We cease analysis if yWe detect words that are commonly used sarcastically, and stop immediately.\n",
        "# Sarcastic words, or phrases are going to vary by lexicon and corpus. \n",
        "# We'll be considering stop words as words that just contain no meaning, and we want to remove them."
      ],
      "execution_count": 1,
      "outputs": []
    },
    {
      "cell_type": "code",
      "metadata": {
        "id": "7fVrxu152TZR",
        "colab_type": "code",
        "colab": {}
      },
      "source": [
        "# Libraries\n",
        "\n",
        "import nltk\n",
        "# nltk.download('stopwords')\n",
        "# nltk.download('punkt')\n",
        "from nltk.corpus import stopwords\n",
        "from nltk.tokenize import word_tokenize"
      ],
      "execution_count": 2,
      "outputs": []
    },
    {
      "cell_type": "code",
      "metadata": {
        "id": "w5-5lnGJ2Zb3",
        "colab_type": "code",
        "colab": {
          "base_uri": "https://localhost:8080/",
          "height": 55
        },
        "outputId": "4e1a8143-44bb-44cb-ab24-3034ecca52b5"
      },
      "source": [
        "# NLTK starts you off with a bunch of words that they consider to be stop words\n",
        "\n",
        "# List of Stop Words already set in a library\n",
        "print(set(stopwords.words('english')))"
      ],
      "execution_count": 3,
      "outputs": [
        {
          "output_type": "stream",
          "text": [
            "{'under', \"isn't\", \"it's\", 'do', 'her', 'his', 'our', 'after', 'until', 'does', 'than', 'shouldn', 'this', \"you'd\", 'who', 'o', \"couldn't\", 'about', 'up', 'shan', \"wasn't\", 'above', 'hasn', 's', 'themselves', 'between', 'didn', 'these', 'has', 'a', 'd', \"that'll\", 'but', \"weren't\", 'in', 'on', 'am', \"doesn't\", 'through', 'they', 'such', 'that', 'it', 'aren', 'why', 'which', 'itself', 'those', 'so', 'the', 'wasn', 'over', \"won't\", 'by', 'very', 'some', 'ourselves', 'there', \"aren't\", 'and', 'where', 'having', 'doesn', 'she', 'being', 'how', 'most', 'against', 'below', 'yours', \"should've\", \"you've\", 'me', 'any', 'only', 'their', 'were', 'yourself', 'again', 'both', 'is', \"didn't\", 'few', 'y', 'been', \"hasn't\", 'for', \"don't\", 'them', 'to', 'down', 'now', 'an', 'once', 'him', 'ours', 'during', 't', 'with', 'isn', 'when', 'if', 'weren', 'or', 'its', 'had', 'theirs', 'ma', 'he', 'will', 'mustn', 'ain', 'be', 'from', 'we', 'then', 'my', 'll', \"she's\", \"hadn't\", 'each', \"you'll\", \"mustn't\", \"you're\", 'hadn', 'before', \"mightn't\", 'are', 'did', 'your', 'doing', 're', 'what', 'himself', 'same', 've', \"needn't\", \"wouldn't\", 'myself', 'whom', 'i', \"shan't\", 'because', 'at', 'further', 'too', \"shouldn't\", 'off', 'yourselves', 'm', 'needn', 'here', 'while', 'into', 'don', 'haven', 'have', 'no', 'nor', 'not', 'as', 'was', 'out', 'of', 'more', 'other', 'own', 'can', 'should', 'won', 'all', 'just', 'hers', 'you', 'wouldn', 'herself', 'couldn', 'mightn', \"haven't\"}\n"
          ],
          "name": "stdout"
        }
      ]
    },
    {
      "cell_type": "code",
      "metadata": {
        "id": "qU4spRlD2dM_",
        "colab_type": "code",
        "colab": {
          "base_uri": "https://localhost:8080/",
          "height": 197
        },
        "outputId": "46ac727a-f374-4740-86e0-923c9d27b794"
      },
      "source": [
        "# Remove the stop words from your text:\n",
        "\n",
        "# Example Sentence\n",
        "example_sent = \"This is a sample sentence, showing off the stop words filtration.\"\n",
        "\n",
        "# Storing the stop words in a variable\n",
        "stop_words = set(stopwords.words('english'))\n",
        "\n",
        "# Converting 'Example Sentence' into Word Tokens\n",
        "word_tokens = word_tokenize(example_sent)\n",
        "\n",
        "# Filtering out words which are stop words also\n",
        "filtered_sentence = [w for w in word_tokens if not w in stop_words]\n",
        "filtered_sentence = []\n",
        "\n",
        "# Removing words which are stop words, Non Stop words extracted\n",
        "for w in word_tokens:\n",
        "    if w not in stop_words:\n",
        "        filtered_sentence.append(w)\n",
        "\n",
        "print(\"EXAMPLE SENTENCE\")\n",
        "print(example_sent)\n",
        "print(\"\\n\")\n",
        "print(\"WORD TOKENS\")\n",
        "print(word_tokens)\n",
        "print(\"\\n\")\n",
        "print(\"FILTERED SENTENCE i.e, stop words removed\")\n",
        "print(filtered_sentence)"
      ],
      "execution_count": 4,
      "outputs": [
        {
          "output_type": "stream",
          "text": [
            "EXAMPLE SENTENCE\n",
            "This is a sample sentence, showing off the stop words filtration.\n",
            "\n",
            "\n",
            "WORD TOKENS\n",
            "['This', 'is', 'a', 'sample', 'sentence', ',', 'showing', 'off', 'the', 'stop', 'words', 'filtration', '.']\n",
            "\n",
            "\n",
            "FILTERED SENTENCE i.e, stop words removed\n",
            "['This', 'sample', 'sentence', ',', 'showing', 'stop', 'words', 'filtration', '.']\n"
          ],
          "name": "stdout"
        }
      ]
    }
  ]
}