{
  "nbformat": 4,
  "nbformat_minor": 0,
  "metadata": {
    "colab": {
      "name": "03 Stemming.ipynb",
      "provenance": [],
      "authorship_tag": "ABX9TyM81J8dNvrhNBeeV766v/sQ",
      "include_colab_link": true
    },
    "kernelspec": {
      "name": "python3",
      "display_name": "Python 3"
    }
  },
  "cells": [
    {
      "cell_type": "markdown",
      "metadata": {
        "id": "view-in-github",
        "colab_type": "text"
      },
      "source": [
        "<a href=\"https://colab.research.google.com/github/sandipanpaul21/NLP-using-Python/blob/master/03_Stemming.ipynb\" target=\"_parent\"><img src=\"https://colab.research.google.com/assets/colab-badge.svg\" alt=\"Open In Colab\"/></a>"
      ]
    },
    {
      "cell_type": "code",
      "metadata": {
        "id": "NX6PSsDGFnDP",
        "colab_type": "code",
        "colab": {}
      },
      "source": [
        "# Stemming\n",
        "\n",
        "# The idea of stemming is a sort of normalizing method.\n",
        "# Many variations of words carry the same meaning, other than when tense is involved.\n",
        "# The reason why we stem is to shorten the lookup, and normalize sentences.\n",
        "\n",
        "# Consider:\n",
        "# I was taking a ride in the car.\n",
        "# I was riding in the car.\n",
        "# This sentence means the same thing. in the car is the same. \n",
        "# I was is the same. the ing denotes a clear past-tense in both cases\n",
        "# so is it truly necessary to differentiate between ride and riding, \n",
        "# in the case of just trying to figure out the meaning of what this past-tense activity was?"
      ],
      "execution_count": 1,
      "outputs": []
    },
    {
      "cell_type": "code",
      "metadata": {
        "id": "Z_dZwJrlF6ZM",
        "colab_type": "code",
        "colab": {}
      },
      "source": [
        "import nltk\n",
        "# nltk.download('punkt')\n",
        "from nltk.stem import PorterStemmer\n",
        "from nltk.tokenize import sent_tokenize, word_tokenize"
      ],
      "execution_count": 2,
      "outputs": []
    },
    {
      "cell_type": "code",
      "metadata": {
        "id": "wTRNlckMGDoW",
        "colab_type": "code",
        "colab": {
          "base_uri": "https://localhost:8080/",
          "height": 35
        },
        "outputId": "c61a45f9-9e18-445e-8b28-13981606e3a2"
      },
      "source": [
        "ps = PorterStemmer()\n",
        "ps"
      ],
      "execution_count": 3,
      "outputs": [
        {
          "output_type": "execute_result",
          "data": {
            "text/plain": [
              "<PorterStemmer>"
            ]
          },
          "metadata": {
            "tags": []
          },
          "execution_count": 3
        }
      ]
    },
    {
      "cell_type": "code",
      "metadata": {
        "id": "nwtAFD8eGPCB",
        "colab_type": "code",
        "colab": {
          "base_uri": "https://localhost:8080/",
          "height": 197
        },
        "outputId": "21b2487c-e795-4918-bdc0-07c1038bdc88"
      },
      "source": [
        "# Lets choose some similar stem words\n",
        "example_words = [\"python\",\"pythoner\",\"pythoning\",\"pythoned\",\"pythonly\"]\n",
        "print('Stemming word Example')\n",
        "print(example_words)\n",
        "print('\\n')\n",
        "print('After Stemming, Words are')\n",
        "# Next, we can easily stem by doing something like:\n",
        "for w in example_words:\n",
        "    print(ps.stem(w))"
      ],
      "execution_count": 4,
      "outputs": [
        {
          "output_type": "stream",
          "text": [
            "Stemming word Example\n",
            "['python', 'pythoner', 'pythoning', 'pythoned', 'pythonly']\n",
            "\n",
            "\n",
            "After Stemming, Words are\n",
            "python\n",
            "python\n",
            "python\n",
            "python\n",
            "pythonli\n"
          ],
          "name": "stdout"
        }
      ]
    },
    {
      "cell_type": "code",
      "metadata": {
        "id": "4FfhizixGaf0",
        "colab_type": "code",
        "colab": {
          "base_uri": "https://localhost:8080/",
          "height": 541
        },
        "outputId": "cf7f9a52-5f27-47c1-c6a6-4edef1fefb20"
      },
      "source": [
        "# Now let's try stemming a typical sentence, rather than some words:\n",
        "\n",
        "new_text = \"It is important to by very pythonly while you are pythoning with python. All pythoners have pythoned poorly at least once.\"\n",
        "print('Another Example')\n",
        "print(new_text)\n",
        "print('\\n')\n",
        "\n",
        "print('For each word, stemming done as follows')\n",
        "# Word Tokenizer \n",
        "words = word_tokenize(new_text)\n",
        "# For each word, stemming done\n",
        "for w in words:\n",
        "    print(ps.stem(w))"
      ],
      "execution_count": 5,
      "outputs": [
        {
          "output_type": "stream",
          "text": [
            "Another Example\n",
            "It is important to by very pythonly while you are pythoning with python. All pythoners have pythoned poorly at least once.\n",
            "\n",
            "\n",
            "For each word, stemming done as follows\n",
            "It\n",
            "is\n",
            "import\n",
            "to\n",
            "by\n",
            "veri\n",
            "pythonli\n",
            "while\n",
            "you\n",
            "are\n",
            "python\n",
            "with\n",
            "python\n",
            ".\n",
            "all\n",
            "python\n",
            "have\n",
            "python\n",
            "poorli\n",
            "at\n",
            "least\n",
            "onc\n",
            ".\n"
          ],
          "name": "stdout"
        }
      ]
    }
  ]
}