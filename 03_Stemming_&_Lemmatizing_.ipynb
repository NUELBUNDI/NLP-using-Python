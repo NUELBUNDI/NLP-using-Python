{
  "nbformat": 4,
  "nbformat_minor": 0,
  "metadata": {
    "colab": {
      "name": "03 Stemming & Lemmatizing .ipynb",
      "provenance": [],
      "collapsed_sections": [],
      "authorship_tag": "ABX9TyP40u3OHSoOzca8LUXJsW6W",
      "include_colab_link": true
    },
    "kernelspec": {
      "name": "python3",
      "display_name": "Python 3"
    }
  },
  "cells": [
    {
      "cell_type": "markdown",
      "metadata": {
        "id": "view-in-github",
        "colab_type": "text"
      },
      "source": [
        "<a href=\"https://colab.research.google.com/github/sandipanpaul21/NLP-using-Python/blob/master/03_Stemming_%26_Lemmatizing_.ipynb\" target=\"_parent\"><img src=\"https://colab.research.google.com/assets/colab-badge.svg\" alt=\"Open In Colab\"/></a>"
      ]
    },
    {
      "cell_type": "code",
      "metadata": {
        "id": "NX6PSsDGFnDP",
        "colab_type": "code",
        "colab": {}
      },
      "source": [
        "# Stemming\n",
        "\n",
        "# The idea of stemming is a sort of normalizing method.\n",
        "# Many variations of words carry the same meaning, other than when tense is involved.\n",
        "# The reason why we stem is to shorten the lookup, and normalize sentences.\n",
        "\n",
        "# Consider:\n",
        "# I was taking a ride in the car.\n",
        "# I was riding in the car.\n",
        "# This sentence means the same thing. in the car is the same. \n",
        "# I was is the same. the ing denotes a clear past-tense in both cases\n",
        "# so is it truly necessary to differentiate between ride and riding, \n",
        "# in the case of just trying to figure out the meaning of what this past-tense activity was?"
      ],
      "execution_count": 1,
      "outputs": []
    },
    {
      "cell_type": "code",
      "metadata": {
        "id": "Z_dZwJrlF6ZM",
        "colab_type": "code",
        "colab": {
          "base_uri": "https://localhost:8080/",
          "height": 89
        },
        "outputId": "ab269cd0-a1c3-4bb4-c143-6f2e198298b6"
      },
      "source": [
        "import nltk\n",
        "nltk.download('punkt')\n",
        "from nltk.stem import PorterStemmer\n",
        "from nltk.tokenize import sent_tokenize, word_tokenize\n",
        "nltk.download('wordnet')\n",
        "from nltk.stem import WordNetLemmatizer"
      ],
      "execution_count": 2,
      "outputs": [
        {
          "output_type": "stream",
          "text": [
            "[nltk_data] Downloading package punkt to /root/nltk_data...\n",
            "[nltk_data]   Package punkt is already up-to-date!\n",
            "[nltk_data] Downloading package wordnet to /root/nltk_data...\n",
            "[nltk_data]   Package wordnet is already up-to-date!\n"
          ],
          "name": "stdout"
        }
      ]
    },
    {
      "cell_type": "code",
      "metadata": {
        "id": "wTRNlckMGDoW",
        "colab_type": "code",
        "colab": {
          "base_uri": "https://localhost:8080/",
          "height": 35
        },
        "outputId": "53d3b332-b032-4813-c5a8-ee8e71df19d0"
      },
      "source": [
        "ps = PorterStemmer()\n",
        "ps"
      ],
      "execution_count": 3,
      "outputs": [
        {
          "output_type": "execute_result",
          "data": {
            "text/plain": [
              "<PorterStemmer>"
            ]
          },
          "metadata": {
            "tags": []
          },
          "execution_count": 3
        }
      ]
    },
    {
      "cell_type": "code",
      "metadata": {
        "id": "nwtAFD8eGPCB",
        "colab_type": "code",
        "colab": {
          "base_uri": "https://localhost:8080/",
          "height": 197
        },
        "outputId": "810aba10-2cf5-45f1-b26e-f633c7f21473"
      },
      "source": [
        "# Lets choose some similar stem words\n",
        "example_words = [\"python\",\"pythoner\",\"pythoning\",\"pythoned\",\"pythonly\"]\n",
        "print('Stemming word Example')\n",
        "print(example_words)\n",
        "print('\\n')\n",
        "print('After Stemming, Words are')\n",
        "# Next, we can easily stem by doing something like:\n",
        "for w in example_words:\n",
        "    print(ps.stem(w))"
      ],
      "execution_count": 4,
      "outputs": [
        {
          "output_type": "stream",
          "text": [
            "Stemming word Example\n",
            "['python', 'pythoner', 'pythoning', 'pythoned', 'pythonly']\n",
            "\n",
            "\n",
            "After Stemming, Words are\n",
            "python\n",
            "python\n",
            "python\n",
            "python\n",
            "pythonli\n"
          ],
          "name": "stdout"
        }
      ]
    },
    {
      "cell_type": "code",
      "metadata": {
        "id": "4FfhizixGaf0",
        "colab_type": "code",
        "colab": {
          "base_uri": "https://localhost:8080/",
          "height": 541
        },
        "outputId": "536540f8-b739-4882-ec48-11857160a72a"
      },
      "source": [
        "# Now let's try stemming a typical sentence, rather than some words:\n",
        "\n",
        "new_text = \"It is important to by very pythonly while you are pythoning with python. All pythoners have pythoned poorly at least once.\"\n",
        "print('Another Example')\n",
        "print(new_text)\n",
        "print('\\n')\n",
        "\n",
        "print('For each word, stemming done as follows')\n",
        "# Word Tokenizer \n",
        "words = word_tokenize(new_text)\n",
        "# For each word, stemming done\n",
        "for w in words:\n",
        "    print(ps.stem(w))"
      ],
      "execution_count": 5,
      "outputs": [
        {
          "output_type": "stream",
          "text": [
            "Another Example\n",
            "It is important to by very pythonly while you are pythoning with python. All pythoners have pythoned poorly at least once.\n",
            "\n",
            "\n",
            "For each word, stemming done as follows\n",
            "It\n",
            "is\n",
            "import\n",
            "to\n",
            "by\n",
            "veri\n",
            "pythonli\n",
            "while\n",
            "you\n",
            "are\n",
            "python\n",
            "with\n",
            "python\n",
            ".\n",
            "all\n",
            "python\n",
            "have\n",
            "python\n",
            "poorli\n",
            "at\n",
            "least\n",
            "onc\n",
            ".\n"
          ],
          "name": "stdout"
        }
      ]
    },
    {
      "cell_type": "code",
      "metadata": {
        "id": "39ZO8e2Hb71p",
        "colab_type": "code",
        "colab": {}
      },
      "source": [
        "# Lemmatizing \n",
        "\n",
        "# A very similar operation to stemming is called lemmatizing. \n",
        "# The major difference between these is, as you saw earlier, \n",
        "# stemming can often create non-existent words, whereas lemmas are actual words.\n",
        "# So, your root stem, meaning the word you end up with, \n",
        "# is not something you can just look up in a dictionary, but you can look up a lemma.\n",
        "# Some times you will wind up with a very similar word, but sometimes,\n",
        "# you will wind up with a completely different word."
      ],
      "execution_count": 6,
      "outputs": []
    },
    {
      "cell_type": "code",
      "metadata": {
        "id": "gapoRwbtcK3F",
        "colab_type": "code",
        "colab": {
          "base_uri": "https://localhost:8080/",
          "height": 179
        },
        "outputId": "b9c731db-b55f-4a47-ece1-80bf7b73360b"
      },
      "source": [
        "lemmatizer = WordNetLemmatizer()\n",
        "\n",
        "print(lemmatizer.lemmatize(\"cats\"))\n",
        "print(lemmatizer.lemmatize(\"cacti\"))\n",
        "print(lemmatizer.lemmatize(\"geese\"))\n",
        "print(lemmatizer.lemmatize(\"rocks\"))\n",
        "print(lemmatizer.lemmatize(\"python\"))\n",
        "print(lemmatizer.lemmatize(\"better\", pos=\"a\"))\n",
        "print(lemmatizer.lemmatize(\"best\", pos=\"a\"))\n",
        "print(lemmatizer.lemmatize(\"run\"))\n",
        "print(lemmatizer.lemmatize(\"run\",'v'))\n",
        "\n",
        "# Inference : \n",
        "# But lemmatization has limits.\n",
        "# For example, Porter stems both happiness and happy to happi, \n",
        "# while WordNet lemmatizes the two words to themselves. \n",
        "# The WordNet lemmatizer also requires specifying the word’s part of speech\n",
        "# otherwise, it assumes the word is a noun.\n",
        "# Finally, lemmatization cannot handle unknown words: for example,\n",
        "# Porter stems both iphone and iphones to iphon, while WordNet lemmatizes both words to themselves.\n",
        "# In the example of shoe and shoes, we probably want to treat the two forms identically.\n",
        "# But we wouldn’t want to do the same for the words logistic(Mathematical term) and logistics(Mechanical term),\n",
        "# which mean very different things despite their apparent similarity.\n",
        "# Nor would we want to equate the words universe and university, \n",
        "# even though both words derive from the same Latin root."
      ],
      "execution_count": 7,
      "outputs": [
        {
          "output_type": "stream",
          "text": [
            "cat\n",
            "cactus\n",
            "goose\n",
            "rock\n",
            "python\n",
            "good\n",
            "best\n",
            "run\n",
            "run\n"
          ],
          "name": "stdout"
        }
      ]
    }
  ]
}