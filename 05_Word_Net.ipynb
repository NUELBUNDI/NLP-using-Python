{
  "nbformat": 4,
  "nbformat_minor": 0,
  "metadata": {
    "colab": {
      "name": "05 Word Net.ipynb",
      "provenance": [],
      "authorship_tag": "ABX9TyOgHJVHxYN0kmVh10ddcGtY",
      "include_colab_link": true
    },
    "kernelspec": {
      "name": "python3",
      "display_name": "Python 3"
    }
  },
  "cells": [
    {
      "cell_type": "markdown",
      "metadata": {
        "id": "view-in-github",
        "colab_type": "text"
      },
      "source": [
        "<a href=\"https://colab.research.google.com/github/sandipanpaul21/NLP-using-Python/blob/master/05_Word_Net.ipynb\" target=\"_parent\"><img src=\"https://colab.research.google.com/assets/colab-badge.svg\" alt=\"Open In Colab\"/></a>"
      ]
    },
    {
      "cell_type": "code",
      "metadata": {
        "id": "ukeEUb4xgaIQ",
        "colab_type": "code",
        "colab": {}
      },
      "source": [
        "# Word Net\n",
        "\n",
        "# WordNet is a lexical database for the English language, \n",
        "# which was created by Princeton, and is part of the NLTK corpus.\n",
        "# You can use WordNet to find the meanings of words, synonyms, antonyms, and more. "
      ],
      "execution_count": 1,
      "outputs": []
    },
    {
      "cell_type": "code",
      "metadata": {
        "id": "3_pqOsOLguB0",
        "colab_type": "code",
        "colab": {
          "base_uri": "https://localhost:8080/",
          "height": 71
        },
        "outputId": "93b929db-c778-4731-c349-46a7c5eff925"
      },
      "source": [
        "from nltk.corpus import wordnet\n",
        "import nltk\n",
        "nltk.download('wordnet')"
      ],
      "execution_count": 2,
      "outputs": [
        {
          "output_type": "stream",
          "text": [
            "[nltk_data] Downloading package wordnet to /root/nltk_data...\n",
            "[nltk_data]   Package wordnet is already up-to-date!\n"
          ],
          "name": "stdout"
        },
        {
          "output_type": "execute_result",
          "data": {
            "text/plain": [
              "True"
            ]
          },
          "metadata": {
            "tags": []
          },
          "execution_count": 2
        }
      ]
    },
    {
      "cell_type": "code",
      "metadata": {
        "id": "kaCKp_5UgzTH",
        "colab_type": "code",
        "colab": {
          "base_uri": "https://localhost:8080/",
          "height": 145
        },
        "outputId": "bcf75360-15b5-4fd5-ea25-150918855de0"
      },
      "source": [
        "# Then, we're going to use the term \"program\" to find synsets like so:\n",
        "\n",
        "# In metadata synset, is a group of data elements that are considered semantically equivalent\n",
        "# for the purposes of information retrieval. \n",
        "# These data elements are frequently found in different metadata registries. \n",
        "# Although a group of terms can be considered equivalent, \n",
        "# metadata registries store the synonyms at a central location called the preferred data element.\n",
        "# According to WordNet, a synset or synonym set is defined as a set of one or more synonyms\n",
        "# that are interchangeable in some context without changing the truth value of the proposition\n",
        "# in which they are embedded.\n",
        "print(\"Group of Synset\")\n",
        "syns = wordnet.synsets(\"program\")\n",
        "print(syns)\n",
        "print(\"\\n\")\n",
        "\n",
        "print(\"An example of a synset:\")\n",
        "print(syns[0].name())"
      ],
      "execution_count": 3,
      "outputs": [
        {
          "output_type": "stream",
          "text": [
            "Group of Synset\n",
            "[Synset('plan.n.01'), Synset('program.n.02'), Synset('broadcast.n.02'), Synset('platform.n.02'), Synset('program.n.05'), Synset('course_of_study.n.01'), Synset('program.n.07'), Synset('program.n.08'), Synset('program.v.01'), Synset('program.v.02')]\n",
            "\n",
            "\n",
            "An example of a synset:\n",
            "plan.n.01\n"
          ],
          "name": "stdout"
        }
      ]
    },
    {
      "cell_type": "code",
      "metadata": {
        "id": "wY6OE82EhAYS",
        "colab_type": "code",
        "colab": {
          "base_uri": "https://localhost:8080/",
          "height": 269
        },
        "outputId": "02f3f3c3-bff7-4075-839b-9144ab393e19"
      },
      "source": [
        "print(\"An example of a synset:\")\n",
        "print(syns[0].name())\n",
        "print(\"\\n\")\n",
        "\n",
        "print(\"Just the word:\")\n",
        "print(syns[0].lemmas()[0].name())\n",
        "print(\"\\n\")\n",
        "\n",
        "print(\"Definition of that first synset:\")\n",
        "print(syns[0].definition())\n",
        "print(\"\\n\")\n",
        "\n",
        "print(\"Examples of the word in use:\")\n",
        "print(syns[0].examples())"
      ],
      "execution_count": 4,
      "outputs": [
        {
          "output_type": "stream",
          "text": [
            "An example of a synset:\n",
            "plan.n.01\n",
            "\n",
            "\n",
            "Just the word:\n",
            "plan\n",
            "\n",
            "\n",
            "Definition of that first synset:\n",
            "a series of steps to be carried out or goals to be accomplished\n",
            "\n",
            "\n",
            "Examples of the word in use:\n",
            "['they drew up a six-step plan', 'they discussed plans for a new bond issue']\n"
          ],
          "name": "stdout"
        }
      ]
    },
    {
      "cell_type": "code",
      "metadata": {
        "id": "a1orv3T8he-r",
        "colab_type": "code",
        "colab": {
          "base_uri": "https://localhost:8080/",
          "height": 145
        },
        "outputId": "1780c600-2f83-4f80-8e7a-41e2d85e8d3c"
      },
      "source": [
        "# Next, how might we discern synonyms and antonyms to a word? \n",
        "# The lemmas will be synonyms, and then you can use .antonyms to find the antonyms to the lemmas. \n",
        "# As such, we can populate some lists like:\n",
        "\n",
        "synonyms = []\n",
        "antonyms = []\n",
        "\n",
        "for syn in wordnet.synsets(\"good\"):\n",
        "    for l in syn.lemmas():\n",
        "        synonyms.append(l.name())\n",
        "        if l.antonyms():\n",
        "            antonyms.append(l.antonyms()[0].name())\n",
        "\n",
        "print(\"Synonyms are \")\n",
        "print(set(synonyms))\n",
        "print(\"\\n\")\n",
        "print(\"Antonymns are\")\n",
        "print(set(antonyms))\n",
        "\n",
        "# Inference : \n",
        "# As you can see, we got many more synonyms than antonyms, \n",
        "# since we just looked up the antonym for the first lemma, \n",
        "# but you could easily balance this buy also doing the exact same process for the term \"bad.\""
      ],
      "execution_count": 5,
      "outputs": [
        {
          "output_type": "stream",
          "text": [
            "Synonyms are \n",
            "{'just', 'full', 'unspoilt', 'salutary', 'in_force', 'estimable', 'unspoiled', 'serious', 'well', 'undecomposed', 'commodity', 'good', 'goodness', 'near', 'sound', 'soundly', 'dear', 'skillful', 'expert', 'respectable', 'right', 'thoroughly', 'beneficial', 'honorable', 'upright', 'practiced', 'trade_good', 'effective', 'ripe', 'honest', 'adept', 'safe', 'secure', 'in_effect', 'skilful', 'dependable', 'proficient'}\n",
            "\n",
            "\n",
            "Antonymns are\n",
            "{'evilness', 'badness', 'evil', 'ill', 'bad'}\n"
          ],
          "name": "stdout"
        }
      ]
    },
    {
      "cell_type": "code",
      "metadata": {
        "id": "G3yt7sbAioLo",
        "colab_type": "code",
        "colab": {
          "base_uri": "https://localhost:8080/",
          "height": 197
        },
        "outputId": "6989b913-a1b0-43d9-f2d6-c5618cd0b212"
      },
      "source": [
        "# Next, we can also easily use WordNet to compare the similarity of two words and their tenses,\n",
        "# by incorporating the Wu and Palmer method for semantic related-ness.\n",
        "\n",
        "# Let's compare the noun of \"ship\" and \"boat:\"\n",
        "print(\"Similarity between 'Ship' & 'Boat' \")\n",
        "w1 = wordnet.synset('ship.n.01')\n",
        "w2 = wordnet.synset('boat.n.01')\n",
        "print(w1.wup_similarity(w2))\n",
        "print('\\n')\n",
        "\n",
        "print(\"Similarity between 'Ship' & 'Car' \")\n",
        "w1 = wordnet.synset('ship.n.01')\n",
        "w2 = wordnet.synset('car.n.01')\n",
        "print(w1.wup_similarity(w2))\n",
        "print(\"\\n\")\n",
        "\n",
        "print(\"Similarity between 'Ship' & 'Cat' \")\n",
        "w1 = wordnet.synset('ship.n.01')\n",
        "w2 = wordnet.synset('cat.n.01')\n",
        "print(w1.wup_similarity(w2))"
      ],
      "execution_count": 6,
      "outputs": [
        {
          "output_type": "stream",
          "text": [
            "Similarity between 'Ship' & 'Boat' \n",
            "0.9090909090909091\n",
            "\n",
            "\n",
            "Similarity between 'Ship' & 'Car' \n",
            "0.6956521739130435\n",
            "\n",
            "\n",
            "Similarity between 'Ship' & 'Cat' \n",
            "0.32\n"
          ],
          "name": "stdout"
        }
      ]
    }
  ]
}